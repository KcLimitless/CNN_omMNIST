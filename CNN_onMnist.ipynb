{
  "cells": [
    {
      "cell_type": "markdown",
      "id": "f51f573c",
      "metadata": {
        "id": "f51f573c"
      },
      "source": [
        "# Training a CNN on MNIST"
      ]
    },
    {
      "cell_type": "code",
      "execution_count": 2,
      "id": "d8cd804b",
      "metadata": {
        "id": "d8cd804b"
      },
      "outputs": [],
      "source": [
        "import numpy as np\n",
        "import matplotlib.pyplot as plt\n",
        "\n",
        "import tensorflow as tf"
      ]
    },
    {
      "cell_type": "code",
      "execution_count": 3,
      "id": "535fdffc",
      "metadata": {
        "colab": {
          "base_uri": "https://localhost:8080/"
        },
        "id": "535fdffc",
        "outputId": "d41ad4b7-704b-4cd1-945f-4cb091f0f4a8"
      },
      "outputs": [
        {
          "output_type": "stream",
          "name": "stdout",
          "text": [
            "Downloading data from https://storage.googleapis.com/tensorflow/tf-keras-datasets/mnist.npz\n",
            "11493376/11490434 [==============================] - 0s 0us/step\n",
            "11501568/11490434 [==============================] - 0s 0us/step\n",
            "Training data: (60000, 28, 28) (60000,)\n",
            "Test data: (10000, 28, 28) (10000,)\n"
          ]
        }
      ],
      "source": [
        "# Fetch the MNIST data\n",
        "(X_train, t_train), (X_test, t_test) = tf.keras.datasets.mnist.load_data()\n",
        "print(\"Training data:\", X_train.shape, t_train.shape)\n",
        "print(\"Test data:\", X_test.shape, t_test.shape)\n",
        "\n",
        "# Normalize the values\n",
        "X_train = X_train.reshape(-1, 28, 28, 1).astype('float32') / 255.\n",
        "X_test = X_test.reshape(-1, 28, 28, 1).astype('float32') / 255.\n",
        "\n",
        "# Mean removal\n",
        "X_mean = np.mean(X_train, axis=0)\n",
        "X_train -= X_mean\n",
        "X_test -= X_mean\n",
        "\n",
        "# One-hot encoding\n",
        "T_train = tf.keras.utils.to_categorical(t_train, 10)\n",
        "T_test = tf.keras.utils.to_categorical(t_test, 10)"
      ]
    },
    {
      "cell_type": "markdown",
      "source": [
        "#The following code defines the basic network in keras:"
      ],
      "metadata": {
        "id": "I3HwXXXNrIo7"
      },
      "id": "I3HwXXXNrIo7"
    },
    {
      "cell_type": "code",
      "source": [
        "# Delete all previous models to free memory\n",
        "tf.keras.backend.clear_session()\n",
        "\n",
        "# Sequential model\n",
        "model = tf.keras.models.Sequential()\n",
        "\n",
        "# Input layer representing the (28, 28) image\n",
        "model.add(tf.keras.layers.Input(shape=(28, 28, 1)))\n",
        "\n",
        "# Convolutional layer with 16 feature maps using 3x3 filters\n",
        "model.add(tf.keras.layers.Conv2D(16, (3, 3), padding='valid'))\n",
        "model.add(tf.keras.layers.Activation('relu')) \n",
        "\n",
        "# Max-pooling layerover 2x2 regions\n",
        "model.add(tf.keras.layers.MaxPooling2D(pool_size=(2, 2)))\n",
        "\n",
        "# Flatten the feature maps into a vector\n",
        "model.add(tf.keras.layers.Flatten())\n",
        "\n",
        "# Fully-connected layer\n",
        "model.add(tf.keras.layers.Dense(units=100))\n",
        "model.add(tf.keras.layers.Activation('relu')) \n",
        "\n",
        "# Softmax output layer over 10 classes\n",
        "model.add(tf.keras.layers.Dense(units=10))\n",
        "model.add(tf.keras.layers.Activation('softmax')) \n",
        "\n",
        "# Learning rule\n",
        "optimizer = tf.keras.optimizers.SGD(lr=0.1, decay=1e-6, momentum=0.9, nesterov=True)\n",
        "\n",
        "# Loss function\n",
        "model.compile(\n",
        "    loss='categorical_crossentropy', # loss function\n",
        "    optimizer=optimizer, # learning rule\n",
        "    metrics=['accuracy'] # show accuracy\n",
        ")\n",
        "\n",
        "print(model.summary())"
      ],
      "metadata": {
        "colab": {
          "base_uri": "https://localhost:8080/"
        },
        "id": "2E8D_tTrrNO-",
        "outputId": "12f8b159-7e8b-47c2-cbc2-14643ead9a7a"
      },
      "id": "2E8D_tTrrNO-",
      "execution_count": 4,
      "outputs": [
        {
          "output_type": "stream",
          "name": "stdout",
          "text": [
            "Model: \"sequential\"\n",
            "_________________________________________________________________\n",
            " Layer (type)                Output Shape              Param #   \n",
            "=================================================================\n",
            " conv2d (Conv2D)             (None, 26, 26, 16)        160       \n",
            "                                                                 \n",
            " activation (Activation)     (None, 26, 26, 16)        0         \n",
            "                                                                 \n",
            " max_pooling2d (MaxPooling2D  (None, 13, 13, 16)       0         \n",
            " )                                                               \n",
            "                                                                 \n",
            " flatten (Flatten)           (None, 2704)              0         \n",
            "                                                                 \n",
            " dense (Dense)               (None, 100)               270500    \n",
            "                                                                 \n",
            " activation_1 (Activation)   (None, 100)               0         \n",
            "                                                                 \n",
            " dense_1 (Dense)             (None, 10)                1010      \n",
            "                                                                 \n",
            " activation_2 (Activation)   (None, 10)                0         \n",
            "                                                                 \n",
            "=================================================================\n",
            "Total params: 271,670\n",
            "Trainable params: 271,670\n",
            "Non-trainable params: 0\n",
            "_________________________________________________________________\n",
            "None\n"
          ]
        },
        {
          "output_type": "stream",
          "name": "stderr",
          "text": [
            "/usr/local/lib/python3.7/dist-packages/keras/optimizer_v2/gradient_descent.py:102: UserWarning: The `lr` argument is deprecated, use `learning_rate` instead.\n",
            "  super(SGD, self).__init__(name, **kwargs)\n"
          ]
        }
      ]
    },
    {
      "cell_type": "markdown",
      "source": [
        "#Let’s now train this network on MNIST for 10 epochs, using minibatches of 64 images:"
      ],
      "metadata": {
        "id": "T48LO60Arc-M"
      },
      "id": "T48LO60Arc-M"
    },
    {
      "cell_type": "code",
      "source": [
        "# History tracks the evolution of the metrics during learning\n",
        "history = tf.keras.callbacks.History()\n",
        "\n",
        "# Training procedure\n",
        "model.fit(\n",
        "    X_train, T_train, # training data\n",
        "    batch_size=64,  # batch size\n",
        "    epochs=10, # Maximum number of epochs\n",
        "    validation_split=0.1, # Perceptage of training data used for validation\n",
        "    callbacks=[history] # Track the metrics at the end of each epoch\n",
        ")"
      ],
      "metadata": {
        "colab": {
          "base_uri": "https://localhost:8080/"
        },
        "id": "6AUSZ_A8ruOu",
        "outputId": "96bc9460-5fe4-4430-da06-d73fb6fa19ee"
      },
      "id": "6AUSZ_A8ruOu",
      "execution_count": 5,
      "outputs": [
        {
          "output_type": "stream",
          "name": "stdout",
          "text": [
            "Epoch 1/10\n",
            "844/844 [==============================] - 14s 4ms/step - loss: 0.1471 - accuracy: 0.9544 - val_loss: 0.0548 - val_accuracy: 0.9838\n",
            "Epoch 2/10\n",
            "844/844 [==============================] - 3s 3ms/step - loss: 0.0503 - accuracy: 0.9840 - val_loss: 0.0523 - val_accuracy: 0.9853\n",
            "Epoch 3/10\n",
            "844/844 [==============================] - 3s 3ms/step - loss: 0.0303 - accuracy: 0.9899 - val_loss: 0.0638 - val_accuracy: 0.9857\n",
            "Epoch 4/10\n",
            "844/844 [==============================] - 3s 3ms/step - loss: 0.0211 - accuracy: 0.9931 - val_loss: 0.0771 - val_accuracy: 0.9848\n",
            "Epoch 5/10\n",
            "844/844 [==============================] - 3s 4ms/step - loss: 0.0105 - accuracy: 0.9967 - val_loss: 0.0684 - val_accuracy: 0.9858\n",
            "Epoch 6/10\n",
            "844/844 [==============================] - 3s 3ms/step - loss: 0.0099 - accuracy: 0.9969 - val_loss: 0.0719 - val_accuracy: 0.9877\n",
            "Epoch 7/10\n",
            "844/844 [==============================] - 3s 3ms/step - loss: 0.0078 - accuracy: 0.9974 - val_loss: 0.0635 - val_accuracy: 0.9862\n",
            "Epoch 8/10\n",
            "844/844 [==============================] - 3s 3ms/step - loss: 0.0071 - accuracy: 0.9977 - val_loss: 0.0852 - val_accuracy: 0.9853\n",
            "Epoch 9/10\n",
            "844/844 [==============================] - 3s 3ms/step - loss: 0.0056 - accuracy: 0.9982 - val_loss: 0.0723 - val_accuracy: 0.9868\n",
            "Epoch 10/10\n",
            "844/844 [==============================] - 3s 4ms/step - loss: 0.0062 - accuracy: 0.9981 - val_loss: 0.0826 - val_accuracy: 0.9882\n"
          ]
        },
        {
          "output_type": "execute_result",
          "data": {
            "text/plain": [
              "<keras.callbacks.History at 0x7f2d9108b810>"
            ]
          },
          "metadata": {},
          "execution_count": 5
        }
      ]
    },
    {
      "cell_type": "markdown",
      "source": [
        "As in the previous exercise, the next cells compute the test loss and accuracy and display the evolution of the training and validation accuracies:"
      ],
      "metadata": {
        "id": "NjmxhmUtsEU1"
      },
      "id": "NjmxhmUtsEU1"
    },
    {
      "cell_type": "code",
      "source": [
        "score = model.evaluate(X_test, T_test, verbose=0)\n",
        "print('Test loss:', score[0])\n",
        "print('Test accuracy:', score[1])"
      ],
      "metadata": {
        "colab": {
          "base_uri": "https://localhost:8080/"
        },
        "id": "TwfKxhTssGs_",
        "outputId": "b4f70867-627e-4719-b22b-b6aa7c188628"
      },
      "id": "TwfKxhTssGs_",
      "execution_count": 6,
      "outputs": [
        {
          "output_type": "stream",
          "name": "stdout",
          "text": [
            "Test loss: 0.06695958971977234\n",
            "Test accuracy: 0.9865000247955322\n"
          ]
        }
      ]
    },
    {
      "cell_type": "code",
      "source": [
        "plt.figure(figsize=(15, 6))\n",
        "\n",
        "plt.subplot(121)\n",
        "plt.plot(history.history['loss'], '-r', label=\"Training\")\n",
        "plt.plot(history.history['val_loss'], '-b', label=\"Validation\")\n",
        "plt.xlabel('Epoch #')\n",
        "plt.ylabel('Loss')\n",
        "plt.legend()\n",
        "\n",
        "plt.subplot(122)\n",
        "plt.plot(history.history['accuracy'], '-r', label=\"Training\")\n",
        "plt.plot(history.history['val_accuracy'], '-b', label=\"Validation\")\n",
        "plt.xlabel('Epoch #')\n",
        "plt.ylabel('Accuracy')\n",
        "plt.legend()\n",
        "\n",
        "plt.show()"
      ],
      "metadata": {
        "colab": {
          "base_uri": "https://localhost:8080/",
          "height": 389
        },
        "id": "P01bnwcwsP_t",
        "outputId": "1f830c2b-e008-4348-8caf-9c99c2701f7c"
      },
      "id": "P01bnwcwsP_t",
      "execution_count": 7,
      "outputs": [
        {
          "output_type": "display_data",
          "data": {
            "text/plain": [
              "<Figure size 1080x432 with 2 Axes>"
            ],
            "image/png": "[encoded data removed]"
          },
          "metadata": {
            "needs_background": "light"
          }
        }
      ]
    },
    {
      "cell_type": "markdown",
      "source": [
        "#Improve the CNN to avoid overfitting. \n",
        " -The test accuracy should be around 99%.\n",
        " -You can:\n",
        "\n",
        " -change the learning rate\n",
        "\n",
        " -add another block on convolution + max-pooling before the  -fully-connected layer to reduce the number of parameters,\n",
        "\n",
        "-add dropout after some of the layers,\n",
        "\n",
        " -use L2 regularization,\n",
        "\n",
        " -use a different optimizer,\n",
        "\n",
        " -do whatever you want."
      ],
      "metadata": {
        "id": "trOQv3vNsbud"
      },
      "id": "trOQv3vNsbud"
    },
    {
      "cell_type": "code",
      "source": [
        "# Delete all previous models to free memory\n",
        "tf.keras.backend.clear_session()\n",
        "\n",
        "# Sequential model\n",
        "model = tf.keras.Sequential()\n",
        "\n",
        "model.add(tf.keras.layers.Input((28, 28, 1)))\n",
        "\n",
        "model.add(tf.keras.layers.Conv2D(32, (3, 3), activation='relu', padding='valid'))\n",
        "model.add(tf.keras.layers.MaxPooling2D(pool_size=(2, 2)))\n",
        "model.add(tf.keras.layers.Dropout(0.5))\n",
        "\n",
        "model.add(tf.keras.layers.Conv2D(64, (3, 3), activation='relu', padding='valid'))\n",
        "model.add(tf.keras.layers.MaxPooling2D(pool_size=(2, 2)))\n",
        "model.add(tf.keras.layers.Dropout(0.5))\n",
        "\n",
        "model.add(tf.keras.layers.Flatten())\n",
        "\n",
        "model.add(tf.keras.layers.Dense(150, activation='relu'))\n",
        "model.add(tf.keras.layers.Dropout(0.5))\n",
        "\n",
        "model.add(tf.keras.layers.Dense(10, activation='softmax'))\n",
        "\n",
        "# Learning rule\n",
        "optimizer = tf.keras.optimizers.SGD(lr=0.01, decay=1e-6, momentum=0.9, nesterov=True)\n",
        "\n",
        "# Loss function\n",
        "model.compile(\n",
        "    loss='categorical_crossentropy', # loss\n",
        "    optimizer=optimizer, # learning rule\n",
        "    metrics=['accuracy'] # show accuracy\n",
        ")\n",
        "\n",
        "print(model.summary())"
      ],
      "metadata": {
        "colab": {
          "base_uri": "https://localhost:8080/"
        },
        "id": "Gm41_mKcsgCF",
        "outputId": "1f3ba7b5-6b9a-4f81-8137-f4f58cb1aa8f"
      },
      "id": "Gm41_mKcsgCF",
      "execution_count": 8,
      "outputs": [
        {
          "output_type": "stream",
          "name": "stdout",
          "text": [
            "Model: \"sequential\"\n",
            "_________________________________________________________________\n",
            " Layer (type)                Output Shape              Param #   \n",
            "=================================================================\n",
            " conv2d (Conv2D)             (None, 26, 26, 32)        320       \n",
            "                                                                 \n",
            " max_pooling2d (MaxPooling2D  (None, 13, 13, 32)       0         \n",
            " )                                                               \n",
            "                                                                 \n",
            " dropout (Dropout)           (None, 13, 13, 32)        0         \n",
            "                                                                 \n",
            " conv2d_1 (Conv2D)           (None, 11, 11, 64)        18496     \n",
            "                                                                 \n",
            " max_pooling2d_1 (MaxPooling  (None, 5, 5, 64)         0         \n",
            " 2D)                                                             \n",
            "                                                                 \n",
            " dropout_1 (Dropout)         (None, 5, 5, 64)          0         \n",
            "                                                                 \n",
            " flatten (Flatten)           (None, 1600)              0         \n",
            "                                                                 \n",
            " dense (Dense)               (None, 150)               240150    \n",
            "                                                                 \n",
            " dropout_2 (Dropout)         (None, 150)               0         \n",
            "                                                                 \n",
            " dense_1 (Dense)             (None, 10)                1510      \n",
            "                                                                 \n",
            "=================================================================\n",
            "Total params: 260,476\n",
            "Trainable params: 260,476\n",
            "Non-trainable params: 0\n",
            "_________________________________________________________________\n",
            "None\n"
          ]
        },
        {
          "output_type": "stream",
          "name": "stderr",
          "text": [
            "/usr/local/lib/python3.7/dist-packages/keras/optimizer_v2/gradient_descent.py:102: UserWarning: The `lr` argument is deprecated, use `learning_rate` instead.\n",
            "  super(SGD, self).__init__(name, **kwargs)\n"
          ]
        }
      ]
    },
    {
      "cell_type": "code",
      "source": [
        "history = tf.keras.callbacks.History()\n",
        "\n",
        "model.fit(\n",
        "    X_train, T_train,\n",
        "    batch_size=64, \n",
        "    epochs=20,\n",
        "    validation_split=0.1,\n",
        "    callbacks=[history]\n",
        ")"
      ],
      "metadata": {
        "colab": {
          "base_uri": "https://localhost:8080/"
        },
        "id": "O4Ffp1SMtKfO",
        "outputId": "e953d207-9569-4524-fd3b-24545ac04656"
      },
      "id": "O4Ffp1SMtKfO",
      "execution_count": 9,
      "outputs": [
        {
          "output_type": "stream",
          "name": "stdout",
          "text": [
            "Epoch 1/20\n",
            "844/844 [==============================] - 5s 5ms/step - loss: 0.5739 - accuracy: 0.8123 - val_loss: 0.0896 - val_accuracy: 0.9753\n",
            "Epoch 2/20\n",
            "844/844 [==============================] - 3s 4ms/step - loss: 0.1982 - accuracy: 0.9398 - val_loss: 0.0634 - val_accuracy: 0.9818\n",
            "Epoch 3/20\n",
            "844/844 [==============================] - 3s 4ms/step - loss: 0.1522 - accuracy: 0.9524 - val_loss: 0.0538 - val_accuracy: 0.9838\n",
            "Epoch 4/20\n",
            "844/844 [==============================] - 4s 4ms/step - loss: 0.1319 - accuracy: 0.9596 - val_loss: 0.0482 - val_accuracy: 0.9865\n",
            "Epoch 5/20\n",
            "844/844 [==============================] - 3s 4ms/step - loss: 0.1193 - accuracy: 0.9634 - val_loss: 0.0427 - val_accuracy: 0.9870\n",
            "Epoch 6/20\n",
            "844/844 [==============================] - 3s 4ms/step - loss: 0.1094 - accuracy: 0.9662 - val_loss: 0.0409 - val_accuracy: 0.9875\n",
            "Epoch 7/20\n",
            "844/844 [==============================] - 3s 4ms/step - loss: 0.0979 - accuracy: 0.9694 - val_loss: 0.0380 - val_accuracy: 0.9892\n",
            "Epoch 8/20\n",
            "844/844 [==============================] - 4s 5ms/step - loss: 0.0950 - accuracy: 0.9709 - val_loss: 0.0381 - val_accuracy: 0.9885\n",
            "Epoch 9/20\n",
            "844/844 [==============================] - 4s 4ms/step - loss: 0.0881 - accuracy: 0.9726 - val_loss: 0.0378 - val_accuracy: 0.9873\n",
            "Epoch 10/20\n",
            "844/844 [==============================] - 4s 4ms/step - loss: 0.0839 - accuracy: 0.9745 - val_loss: 0.0355 - val_accuracy: 0.9893\n",
            "Epoch 11/20\n",
            "844/844 [==============================] - 3s 4ms/step - loss: 0.0810 - accuracy: 0.9752 - val_loss: 0.0349 - val_accuracy: 0.9893\n",
            "Epoch 12/20\n",
            "844/844 [==============================] - 3s 4ms/step - loss: 0.0770 - accuracy: 0.9765 - val_loss: 0.0323 - val_accuracy: 0.9912\n",
            "Epoch 13/20\n",
            "844/844 [==============================] - 3s 4ms/step - loss: 0.0756 - accuracy: 0.9772 - val_loss: 0.0319 - val_accuracy: 0.9905\n",
            "Epoch 14/20\n",
            "844/844 [==============================] - 4s 4ms/step - loss: 0.0734 - accuracy: 0.9779 - val_loss: 0.0302 - val_accuracy: 0.9920\n",
            "Epoch 15/20\n",
            "844/844 [==============================] - 3s 4ms/step - loss: 0.0725 - accuracy: 0.9775 - val_loss: 0.0319 - val_accuracy: 0.9908\n",
            "Epoch 16/20\n",
            "844/844 [==============================] - 3s 4ms/step - loss: 0.0696 - accuracy: 0.9784 - val_loss: 0.0318 - val_accuracy: 0.9910\n",
            "Epoch 17/20\n",
            "844/844 [==============================] - 3s 4ms/step - loss: 0.0659 - accuracy: 0.9797 - val_loss: 0.0323 - val_accuracy: 0.9912\n",
            "Epoch 18/20\n",
            "844/844 [==============================] - 3s 4ms/step - loss: 0.0661 - accuracy: 0.9795 - val_loss: 0.0305 - val_accuracy: 0.9908\n",
            "Epoch 19/20\n",
            "844/844 [==============================] - 4s 4ms/step - loss: 0.0658 - accuracy: 0.9800 - val_loss: 0.0308 - val_accuracy: 0.9917\n",
            "Epoch 20/20\n",
            "844/844 [==============================] - 3s 4ms/step - loss: 0.0615 - accuracy: 0.9806 - val_loss: 0.0304 - val_accuracy: 0.9913\n"
          ]
        },
        {
          "output_type": "execute_result",
          "data": {
            "text/plain": [
              "<keras.callbacks.History at 0x7f2cff2f4950>"
            ]
          },
          "metadata": {},
          "execution_count": 9
        }
      ]
    },
    {
      "cell_type": "code",
      "source": [
        "score = model.evaluate(X_test, T_test, verbose=0)\n",
        "print('Test loss:', score[0])\n",
        "print('Test accuracy:', score[1])"
      ],
      "metadata": {
        "colab": {
          "base_uri": "https://localhost:8080/"
        },
        "id": "DIj_YjggtSxS",
        "outputId": "c14f6824-4376-4979-ed96-8ee75ecf9368"
      },
      "id": "DIj_YjggtSxS",
      "execution_count": 10,
      "outputs": [
        {
          "output_type": "stream",
          "name": "stdout",
          "text": [
            "Test loss: 0.022000115364789963\n",
            "Test accuracy: 0.9929999709129333\n"
          ]
        }
      ]
    },
    {
      "cell_type": "code",
      "source": [
        "plt.figure(figsize=(15, 6))\n",
        "\n",
        "plt.subplot(121)\n",
        "plt.plot(history.history['loss'], '-r', label=\"Training\")\n",
        "plt.plot(history.history['val_loss'], '-b', label=\"Validation\")\n",
        "plt.xlabel('Epoch #')\n",
        "plt.ylabel('Loss')\n",
        "plt.legend()\n",
        "\n",
        "plt.subplot(122)\n",
        "plt.plot(history.history['accuracy'], '-r', label=\"Training\")\n",
        "plt.plot(history.history['val_accuracy'], '-b', label=\"Validation\")\n",
        "plt.xlabel('Epoch #')\n",
        "plt.ylabel('Accuracy')\n",
        "plt.legend()\n",
        "\n",
        "plt.show()"
      ],
      "metadata": {
        "colab": {
          "base_uri": "https://localhost:8080/",
          "height": 391
        },
        "id": "9cfEqITjtfPU",
        "outputId": "b0de5363-963d-436f-be1d-9da75a8af15c"
      },
      "id": "9cfEqITjtfPU",
      "execution_count": 11,
      "outputs": [
        {
          "output_type": "display_data",
          "data": {
            "text/plain": [
              "<Figure size 1080x432 with 2 Axes>"
            ],
            "image/png": "[encoded data removed]"
          },
          "metadata": {
            "needs_background": "light"
          }
        }
      ]
    },
    {
      "cell_type": "markdown",
      "source": [
        "#Accessing trained weights\n",
        " -You can obtain the parameters of each layer (if any) with:"
      ],
      "metadata": {
        "id": "dP8mLC3Kt-Mf"
      },
      "id": "dP8mLC3Kt-Mf"
    },
    {
      "cell_type": "code",
      "source": [
        "W = model.layers[0].get_weights()[0]"
      ],
      "metadata": {
        "id": "OqBhlKPJuAA_"
      },
      "id": "OqBhlKPJuAA_",
      "execution_count": 18,
      "outputs": []
    },
    {
      "cell_type": "code",
      "source": [
        "W = model.layers[0].get_weights()[0]\n",
        "print(\"W shape : \", W.shape)"
      ],
      "metadata": {
        "colab": {
          "base_uri": "https://localhost:8080/"
        },
        "id": "lpW9sDaNuSki",
        "outputId": "f12363cd-4aff-4af2-a82d-571f46f4c610"
      },
      "id": "lpW9sDaNuSki",
      "execution_count": 19,
      "outputs": [
        {
          "output_type": "stream",
          "name": "stdout",
          "text": [
            "W shape :  (3, 3, 1, 32)\n"
          ]
        }
      ]
    },
    {
      "cell_type": "code",
      "source": [
        "plt.figure(figsize=(12, 12))\n",
        "for i in range(16):\n",
        "    plt.subplot(4, 4, i+1)\n",
        "    plt.imshow(W[:, :, 0, i], cmap=plt.cm.gray)\n",
        "    plt.xticks([]); plt.yticks([])\n",
        "    plt.colorbar()\n",
        "plt.show()"
      ],
      "metadata": {
        "colab": {
          "base_uri": "https://localhost:8080/",
          "height": 687
        },
        "id": "TTMQN1KSuuPv",
        "outputId": "3ef57c56-2d01-4f7a-84b3-0330d1ab8588"
      },
      "id": "TTMQN1KSuuPv",
      "execution_count": 21,
      "outputs": [
        {
          "output_type": "display_data",
          "data": {
            "text/plain": [
              "<Figure size 864x864 with 32 Axes>"
            ],
            "image/png": "[encoded data removed]"
          },
          "metadata": {
            "needs_background": "light"
          }
        }
      ]
    }
  ],
  "metadata": {
    "kernelspec": {
      "display_name": "Python 3 (ipykernel)",
      "language": "python",
      "name": "python3"
    },
    "language_info": {
      "codemirror_mode": {
        "name": "ipython",
        "version": 3
      },
      "file_extension": ".py",
      "mimetype": "text/x-python",
      "name": "python",
      "nbconvert_exporter": "python",
      "pygments_lexer": "ipython3",
      "version": "3.9.7"
    },
    "colab": {
      "name": "CNN_onMnist.ipynb",
      "provenance": [],
      "collapsed_sections": []
    },
    "accelerator": "GPU",
    "gpuClass": "standard"
  },
  "nbformat": 4,
  "nbformat_minor": 5
}